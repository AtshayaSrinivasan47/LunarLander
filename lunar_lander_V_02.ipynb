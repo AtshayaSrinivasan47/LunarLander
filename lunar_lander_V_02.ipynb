{
 "cells": [
  {
   "cell_type": "code",
   "execution_count": 21,
   "metadata": {},
   "outputs": [],
   "source": [
    "import gym # pip install gym\n",
    "import numpy as np\n",
    "import matplotlib.pyplot as plt\n",
    "import imageio\n",
    "from skimage.transform import resize\n",
    "from PIL import Image, ImageDraw, ImageFont\n",
    "# import seaborn as sns\n",
    "# sns.set_theme()\n",
    "\n",
    "from tensorflow import keras\n",
    "from tensorflow.keras import models\n",
    "from tensorflow.keras import layers\n",
    "\n",
    "from tensorflow.keras.models import Sequential\n",
    "from tensorflow.keras.layers import Dense, Flatten\n",
    "from tensorflow.keras.optimizers.legacy import Adam\n",
    "from tensorflow.keras.callbacks import Callback\n",
    "\n",
    "from rl.agents import DQNAgent  # pip install keras-rl2\n",
    "from rl.policy import BoltzmannQPolicy  # important to have gym==0.25.2\n",
    "from rl.memory import SequentialMemory\n",
    "import warnings\n",
    "warnings.filterwarnings(\"ignore\")"
   ]
  },
  {
   "cell_type": "code",
   "execution_count": 2,
   "metadata": {},
   "outputs": [
    {
     "name": "stdout",
     "output_type": "stream",
     "text": [
      "8\n",
      "4\n"
     ]
    }
   ],
   "source": [
    "env = gym.make(\"LunarLander-v2\")  # no render mode to prevent display while training\n",
    "\n",
    "states = env.observation_space.shape[0]\n",
    "actions = env.action_space.n\n",
    "\n",
    "print(states)\n",
    "print(actions)"
   ]
  },
  {
   "cell_type": "code",
   "execution_count": 3,
   "metadata": {},
   "outputs": [],
   "source": [
    "model = Sequential()\n",
    "model.add(Flatten(input_shape=(1, states)))\n",
    "model.add(Dense(64, activation=\"relu\"))\n",
    "model.add(Dense(64, activation=\"relu\"))\n",
    "model.add(Dense(actions, activation=\"linear\"))\n",
    "# Compile the model\n",
    "model.compile(optimizer=Adam(), loss='mse')"
   ]
  },
  {
   "cell_type": "code",
   "execution_count": 9,
   "metadata": {},
   "outputs": [],
   "source": [
    "agent = DQNAgent(\n",
    "    model=model,\n",
    "    memory=SequentialMemory(limit=50000, window_length=1),\n",
    "    policy=BoltzmannQPolicy(),\n",
    "    nb_actions=actions,\n",
    "    nb_steps_warmup=100,\n",
    "    target_model_update=0.01\n",
    ")\n",
    "\n",
    "agent.compile(Adam(lr=0.001), metrics=[\"mae\"])"
   ]
  },
  {
   "cell_type": "code",
   "execution_count": 10,
   "metadata": {},
   "outputs": [],
   "source": [
    "# Define a custom callback to record loss and reward values during training\n",
    "class LossHistory(Callback):\n",
    "    def __init__(self):\n",
    "        self.loss_values = []\n",
    "        self.reward_values = []\n",
    "\n",
    "    def on_episode_end(self, episode, logs):  # Changed from 'on_epoch_end' to 'on_episode_end'\n",
    "        self.loss_values.append(logs.get('loss'))\n",
    "        self.reward_values.append(logs.get('episode_reward'))"
   ]
  },
  {
   "cell_type": "code",
   "execution_count": 11,
   "metadata": {},
   "outputs": [],
   "source": [
    "# Initialize the callback\n",
    "loss_history = LossHistory()\n"
   ]
  },
  {
   "cell_type": "code",
   "execution_count": 12,
   "metadata": {},
   "outputs": [
    {
     "name": "stdout",
     "output_type": "stream",
     "text": [
      "Training for 100000 steps ...\n",
      "Interval 1 (0 steps performed)\n",
      "10000/10000 [==============================] - 170s 17ms/step - reward: -0.3803\n",
      "25 episodes - episode_reward: -154.071 [-352.353, 31.170] - loss: 10.338 - mae: 17.561 - mean_q: 8.944\n",
      "\n",
      "Interval 2 (10000 steps performed)\n",
      "10000/10000 [==============================] - 191s 19ms/step - reward: -0.0095\n",
      "10 episodes - episode_reward: -14.473 [-243.270, 58.696] - loss: 6.516 - mae: 29.720 - mean_q: 32.894\n",
      "\n",
      "Interval 3 (20000 steps performed)\n",
      "10000/10000 [==============================] - 181s 18ms/step - reward: -0.0797\n",
      "12 episodes - episode_reward: -64.931 [-322.399, 52.351] - loss: 7.495 - mae: 33.819 - mean_q: 43.339\n",
      "\n",
      "Interval 4 (30000 steps performed)\n",
      "10000/10000 [==============================] - 184s 18ms/step - reward: 0.0051\n",
      "12 episodes - episode_reward: 2.558 [-206.494, 46.107] - loss: 7.173 - mae: 35.081 - mean_q: 45.948\n",
      "\n",
      "Interval 5 (40000 steps performed)\n",
      "10000/10000 [==============================] - 184s 18ms/step - reward: -0.0288\n",
      "10 episodes - episode_reward: -21.511 [-341.396, 67.049] - loss: 6.463 - mae: 33.472 - mean_q: 44.197\n",
      "\n",
      "Interval 6 (50000 steps performed)\n",
      "10000/10000 [==============================] - 197s 20ms/step - reward: -0.0123\n",
      "10 episodes - episode_reward: -15.468 [-142.057, 53.093] - loss: 4.048 - mae: 27.889 - mean_q: 37.102\n",
      "\n",
      "Interval 7 (60000 steps performed)\n",
      "10000/10000 [==============================] - 182s 18ms/step - reward: 0.0276\n",
      "13 episodes - episode_reward: 13.336 [-347.640, 158.845] - loss: 3.583 - mae: 26.194 - mean_q: 35.044\n",
      "\n",
      "Interval 8 (70000 steps performed)\n",
      "10000/10000 [==============================] - 170s 17ms/step - reward: 0.0231\n",
      "26 episodes - episode_reward: 9.155 [-292.896, 151.618] - loss: 5.485 - mae: 32.143 - mean_q: 42.671\n",
      "\n",
      "Interval 9 (80000 steps performed)\n",
      "10000/10000 [==============================] - 179s 18ms/step - reward: 0.1090\n",
      "12 episodes - episode_reward: 96.339 [-25.082, 154.464] - loss: 5.154 - mae: 32.321 - mean_q: 43.153\n",
      "\n",
      "Interval 10 (90000 steps performed)\n",
      "10000/10000 [==============================] - 186s 19ms/step - reward: 0.1042\n",
      "done, took 1822.834 seconds\n"
     ]
    }
   ],
   "source": [
    "# Define the number of training steps\n",
    "total_steps = 100000\n",
    "\n",
    "# Fit the agent to the environment\n",
    "history = agent.fit(\n",
    "    env,\n",
    "    nb_steps=total_steps,\n",
    "    visualize=False,\n",
    "    verbose=1,\n",
    "    callbacks=[loss_history]\n",
    ")"
   ]
  },
  {
   "cell_type": "code",
   "execution_count": 13,
   "metadata": {},
   "outputs": [],
   "source": [
    "# Collect loss and reward values from the callback\n",
    "losses = loss_history.loss_values\n",
    "rewards = loss_history.reward_values"
   ]
  },
  {
   "cell_type": "code",
   "execution_count": 14,
   "metadata": {},
   "outputs": [],
   "source": [
    "# Save the trained model\n",
    "agent.save_weights('trained_model_weights.h5', overwrite=True)"
   ]
  },
  {
   "cell_type": "code",
   "execution_count": 15,
   "metadata": {},
   "outputs": [],
   "source": [
    "# Plot the learning progress\n",
    "plt.figure(figsize=(10, 5))\n",
    "plt.plot(range(1, len(losses) + 1), losses, label='Loss')\n",
    "plt.plot(range(1, len(rewards) + 1), rewards, label='Mean Reward')\n",
    "plt.xlabel('Episode')\n",
    "plt.ylabel('Value')\n",
    "plt.title('Learning Progress')\n",
    "plt.legend()\n",
    "plt.grid(True)\n",
    "plt.show()"
   ]
  },
  {
   "cell_type": "code",
   "execution_count": 16,
   "metadata": {},
   "outputs": [],
   "source": [
    "# Plot the loss curve\n",
    "plt.plot(losses)\n",
    "plt.title('Training Loss')\n",
    "plt.xlabel('Episode')  # Changed from 'Epoch' to 'Episode'\n",
    "plt.ylabel('Loss')\n",
    "plt.show()"
   ]
  },
  {
   "cell_type": "code",
   "execution_count": 17,
   "metadata": {},
   "outputs": [],
   "source": [
    "agent.load_weights(\"trained_model_weights.h5\")"
   ]
  },
  {
   "cell_type": "code",
   "execution_count": 19,
   "metadata": {},
   "outputs": [
    {
     "name": "stdout",
     "output_type": "stream",
     "text": [
      "Testing for 100 episodes ...\n",
      "Episode 1: reward: 212.334, steps: 403\n",
      "Episode 2: reward: 211.187, steps: 481\n",
      "Episode 3: reward: 225.190, steps: 399\n",
      "Episode 4: reward: 252.268, steps: 378\n",
      "Episode 5: reward: 199.001, steps: 414\n",
      "Episode 6: reward: 225.323, steps: 421\n",
      "Episode 7: reward: 231.380, steps: 398\n",
      "Episode 8: reward: 113.804, steps: 1000\n",
      "Episode 9: reward: 117.668, steps: 1000\n",
      "Episode 10: reward: 245.953, steps: 412\n",
      "Episode 11: reward: 228.611, steps: 409\n",
      "Episode 12: reward: 224.253, steps: 386\n",
      "Episode 13: reward: 149.531, steps: 1000\n",
      "Episode 14: reward: 237.134, steps: 642\n",
      "Episode 15: reward: 167.427, steps: 1000\n",
      "Episode 16: reward: 268.726, steps: 404\n",
      "Episode 17: reward: 213.177, steps: 400\n",
      "Episode 18: reward: 220.715, steps: 546\n",
      "Episode 19: reward: 247.059, steps: 816\n",
      "Episode 20: reward: 122.088, steps: 1000\n",
      "Episode 21: reward: 251.361, steps: 338\n",
      "Episode 22: reward: 272.423, steps: 429\n",
      "Episode 23: reward: 228.474, steps: 387\n",
      "Episode 24: reward: 253.713, steps: 514\n",
      "Episode 25: reward: 232.004, steps: 408\n",
      "Episode 26: reward: 213.255, steps: 374\n",
      "Episode 27: reward: 156.803, steps: 1000\n",
      "Episode 28: reward: 208.356, steps: 406\n",
      "Episode 29: reward: 89.648, steps: 1000\n",
      "Episode 30: reward: 252.864, steps: 322\n",
      "Episode 31: reward: 105.346, steps: 1000\n",
      "Episode 32: reward: 161.188, steps: 1000\n",
      "Episode 33: reward: 266.784, steps: 958\n",
      "Episode 34: reward: 254.509, steps: 393\n",
      "Episode 35: reward: 121.460, steps: 1000\n",
      "Episode 36: reward: 219.608, steps: 679\n",
      "Episode 37: reward: 111.609, steps: 1000\n",
      "Episode 38: reward: 250.074, steps: 435\n",
      "Episode 39: reward: 153.853, steps: 1000\n",
      "Episode 40: reward: 243.764, steps: 496\n",
      "Episode 41: reward: 237.479, steps: 522\n",
      "Episode 42: reward: 266.431, steps: 404\n",
      "Episode 43: reward: 160.076, steps: 1000\n",
      "Episode 44: reward: 260.602, steps: 403\n",
      "Episode 45: reward: 195.794, steps: 378\n",
      "Episode 46: reward: 232.148, steps: 371\n",
      "Episode 47: reward: 217.126, steps: 376\n",
      "Episode 48: reward: 226.248, steps: 389\n",
      "Episode 49: reward: 246.698, steps: 402\n",
      "Episode 50: reward: 239.520, steps: 373\n",
      "Episode 51: reward: 222.117, steps: 402\n",
      "Episode 52: reward: 219.636, steps: 627\n",
      "Episode 53: reward: 248.327, steps: 476\n",
      "Episode 54: reward: 145.284, steps: 1000\n",
      "Episode 55: reward: 253.942, steps: 433\n",
      "Episode 56: reward: 258.370, steps: 443\n",
      "Episode 57: reward: 263.329, steps: 450\n",
      "Episode 58: reward: 232.705, steps: 382\n",
      "Episode 59: reward: 232.709, steps: 466\n",
      "Episode 60: reward: 222.926, steps: 404\n",
      "Episode 61: reward: 202.675, steps: 404\n",
      "Episode 62: reward: 202.154, steps: 363\n",
      "Episode 63: reward: 233.795, steps: 383\n",
      "Episode 64: reward: 249.697, steps: 406\n",
      "Episode 65: reward: 256.122, steps: 386\n",
      "Episode 66: reward: 242.204, steps: 526\n",
      "Episode 67: reward: 222.552, steps: 368\n",
      "Episode 68: reward: 227.204, steps: 403\n",
      "Episode 69: reward: 226.339, steps: 362\n",
      "Episode 70: reward: 225.901, steps: 400\n",
      "Episode 71: reward: 222.123, steps: 383\n",
      "Episode 72: reward: 245.920, steps: 396\n",
      "Episode 73: reward: 232.301, steps: 472\n",
      "Episode 74: reward: 231.265, steps: 399\n",
      "Episode 75: reward: 222.637, steps: 503\n",
      "Episode 76: reward: 227.954, steps: 371\n",
      "Episode 77: reward: 222.833, steps: 393\n",
      "Episode 78: reward: 222.611, steps: 418\n",
      "Episode 79: reward: 229.386, steps: 454\n",
      "Episode 80: reward: 244.988, steps: 579\n",
      "Episode 81: reward: 215.645, steps: 378\n",
      "Episode 82: reward: 117.132, steps: 1000\n",
      "Episode 83: reward: 230.034, steps: 387\n",
      "Episode 84: reward: 227.027, steps: 593\n",
      "Episode 85: reward: 215.800, steps: 394\n",
      "Episode 86: reward: 219.281, steps: 360\n",
      "Episode 87: reward: 244.349, steps: 394\n",
      "Episode 88: reward: 239.212, steps: 390\n",
      "Episode 89: reward: 277.420, steps: 458\n",
      "Episode 90: reward: 258.883, steps: 396\n",
      "Episode 91: reward: 218.041, steps: 506\n",
      "Episode 92: reward: 123.848, steps: 1000\n",
      "Episode 93: reward: 237.233, steps: 394\n",
      "Episode 94: reward: 256.229, steps: 410\n",
      "Episode 95: reward: 215.984, steps: 501\n",
      "Episode 96: reward: 220.055, steps: 404\n",
      "Episode 97: reward: 226.310, steps: 397\n",
      "Episode 98: reward: 225.477, steps: 370\n",
      "Episode 99: reward: 244.091, steps: 367\n",
      "Episode 100: reward: 243.121, steps: 403\n"
     ]
    }
   ],
   "source": [
    "results = agent.test(env, nb_episodes=100, visualize=True)"
   ]
  },
  {
   "cell_type": "code",
   "execution_count": 20,
   "metadata": {},
   "outputs": [],
   "source": [
    "# Define a function to resize the frame\n",
    "def resize_frame(frame):\n",
    "    # Get the height and width of the frame\n",
    "    height, width = frame.shape[:2]\n",
    "    # Calculate the new height and width that are divisible by 16\n",
    "    new_height = ((height - 1) // 16 + 1) * 16\n",
    "    new_width = ((width - 1) // 16 + 1) * 16\n",
    "    # Resize the frame to the new dimensions\n",
    "    resized_frame = resize(frame, (new_height, new_width))\n",
    "    return resized_frame"
   ]
  },
  {
   "cell_type": "code",
   "execution_count": 22,
   "metadata": {},
   "outputs": [],
   "source": [
    "# Initialize the list to store frames\n",
    "frames = []\n",
    "\n",
    "# Reset the environment and get the initial state\n",
    "state = env.reset()\n",
    "\n",
    "# Flag to track whether the episode is done\n",
    "done = False\n",
    "\n",
    "# Initialize episode number\n",
    "episode_number = 1\n",
    "\n",
    "# Run the episode until it's done\n",
    "while not done:\n",
    "    # Get the current frame from the environment\n",
    "    frame = env.render(mode='rgb_array')\n",
    "    \n",
    "    # Resize the frame to have dimensions divisible by 16\n",
    "    frame_resized = resize_frame(frame)\n",
    "    \n",
    "    # Convert the frame to a PIL Image\n",
    "    img = Image.fromarray((frame_resized * 255).astype(np.uint8))\n",
    "    \n",
    "    # Add text overlay for episode number every 10 episodes\n",
    "    if episode_number % 10 == 0:\n",
    "        draw = ImageDraw.Draw(img)\n",
    "        font = ImageFont.truetype(\"arial.ttf\", 20)\n",
    "        draw.text((10, 10), f\"Episode: {episode_number}\", fill=(255, 255, 255), font=font)\n",
    "    \n",
    "    # Convert the PIL Image back to numpy array\n",
    "    frame_with_text = np.array(img)\n",
    "    \n",
    "    # Append the resized frame with text overlay to the list of frames\n",
    "    frames.append(frame_with_text)\n",
    "    \n",
    "    # Take a step in the environment\n",
    "    action = agent.forward(state)\n",
    "    state, _, done, _ = env.step(action)\n",
    "    \n",
    "    # Increment episode number if episode is done\n",
    "    if done:\n",
    "        episode_number += 1\n",
    "\n",
    "# Save the video of the episode\n",
    "imageio.mimsave(\"episode_video.mp4\", frames, fps=30)"
   ]
  },
  {
   "cell_type": "code",
   "execution_count": 23,
   "metadata": {},
   "outputs": [],
   "source": [
    "env.close()"
   ]
  }
 ],
 "metadata": {
  "kernelspec": {
   "display_name": "Python 3 (ipykernel)",
   "language": "python",
   "name": "python3"
  },
  "language_info": {
   "codemirror_mode": {
    "name": "ipython",
    "version": 3
   },
   "file_extension": ".py",
   "mimetype": "text/x-python",
   "name": "python",
   "nbconvert_exporter": "python",
   "pygments_lexer": "ipython3",
   "version": "3.9.18"
  }
 },
 "nbformat": 4,
 "nbformat_minor": 4
}
